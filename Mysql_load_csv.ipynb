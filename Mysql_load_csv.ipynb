{
 "cells": [
  {
   "cell_type": "code",
   "execution_count": 1,
   "id": "df95ee7c-d3e2-4b7e-a4a8-29d63174c854",
   "metadata": {},
   "outputs": [],
   "source": [
    "import pandas as pd\n",
    "from sqlalchemy import create_engine"
   ]
  },
  {
   "cell_type": "code",
   "execution_count": 6,
   "id": "f5138a6e-7435-46db-b27a-0d4d2d9f1d75",
   "metadata": {},
   "outputs": [
    {
     "name": "stderr",
     "output_type": "stream",
     "text": [
      "<>:7: SyntaxWarning: invalid escape sequence '\\A'\n",
      "<>:7: SyntaxWarning: invalid escape sequence '\\A'\n",
      "C:\\Users\\saeed\\AppData\\Local\\Temp\\ipykernel_8524\\1696570122.py:7: SyntaxWarning: invalid escape sequence '\\A'\n",
      "  csv_file='C:/Users/saeed/Downloads/Amazon Sale Report.csv\\Amazon Sale Report.csv'\n"
     ]
    }
   ],
   "source": [
    "user='root'\n",
    "password='root'\n",
    "host='localhost'\n",
    "port=3306\n",
    "database='amazon'\n",
    "table_name='amazon_sale_report'\n",
    "csv_file='C:/Users/saeed/Downloads/Amazon Sale Report.csv\\Amazon Sale Report.csv'"
   ]
  },
  {
   "cell_type": "code",
   "execution_count": 7,
   "id": "a7ef9210-7421-4ec3-be49-86450ae57bee",
   "metadata": {},
   "outputs": [],
   "source": [
    "engine=create_engine(f'mysql+mysqlconnector://{user}:{password}@{host}:{port}/{database}')"
   ]
  },
  {
   "cell_type": "code",
   "execution_count": 8,
   "id": "99cfd9b5-9601-4e70-8862-0f0d38035354",
   "metadata": {},
   "outputs": [],
   "source": [
    "chunk_size=10000"
   ]
  },
  {
   "cell_type": "code",
   "execution_count": 10,
   "id": "e8dc1ade-f2bc-41c7-8341-072a0f8f32bc",
   "metadata": {},
   "outputs": [
    {
     "name": "stdout",
     "output_type": "stream",
     "text": [
      "inserting chunk 1...\n",
      "inserting chunk 2...\n",
      "inserting chunk 3...\n",
      "inserting chunk 4...\n",
      "inserting chunk 5...\n",
      "inserting chunk 6...\n",
      "inserting chunk 7...\n",
      "inserting chunk 8...\n",
      "inserting chunk 9...\n",
      "inserting chunk 10...\n",
      "inserting chunk 11...\n",
      "inserting chunk 12...\n",
      "inserting chunk 13...\n",
      "Data import Complete\n"
     ]
    }
   ],
   "source": [
    "for i,chunk in enumerate(pd.read_csv(csv_file,chunksize=chunk_size)):\n",
    "    print(f'inserting chunk {i+1}...')\n",
    "    chunk.to_sql(name=table_name,con=engine,if_exists='append',index=False)\n",
    "print('Data import Complete')"
   ]
  },
